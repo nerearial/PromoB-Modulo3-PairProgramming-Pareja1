{
 "cells": [
  {
   "cell_type": "code",
   "execution_count": 6,
   "metadata": {},
   "outputs": [],
   "source": [
    "import pandas as pd"
   ]
  },
  {
   "cell_type": "code",
   "execution_count": 7,
   "metadata": {},
   "outputs": [],
   "source": [
    "## EJERCICIO 4.\n",
    "\n",
    "# Crea una serie con nuemeros correlativos entre 1 y 12 inclusive (puedes hacerlo como lista o diccionario):\n",
    "\n",
    "serie = pd.Series(range(1, 13))"
   ]
  },
  {
   "cell_type": "code",
   "execution_count": 4,
   "metadata": {},
   "outputs": [],
   "source": [
    "# Cambiar el índice para que comience con el número 20\n",
    "nuevo_indice = range(20, 32)  # 12 números empezando desde 20\n",
    "serie.index = nuevo_indice"
   ]
  },
  {
   "cell_type": "code",
   "execution_count": 8,
   "metadata": {},
   "outputs": [],
   "source": [
    "# Nuevamente cambia el indice de la serie, esta vez con una lista que haga referencia a los meses del año (tenemos 12 elementos como la cantidad de meses del año).\n",
    "\n",
    "lista = [i for i in range(1,13)]\n",
    "\n",
    "meses = [\"Enero\",\"Febrero\",\"Marzo\", \"Abril\",\"Mayo\", \"Junio\",\"Julio\",\"Agosto\",\"Septiembre\",\"Octubre\",\"Noviembre\",\"Diciembre\"]\n",
    "serie = pd.Series(lista, index = meses)\n"
   ]
  },
  {
   "cell_type": "code",
   "execution_count": 9,
   "metadata": {},
   "outputs": [
    {
     "data": {
      "text/plain": [
       "Enero          1\n",
       "Febrero        2\n",
       "Marzo          3\n",
       "Abril          4\n",
       "Mayo           5\n",
       "Junio          6\n",
       "Julio          7\n",
       "Agosto         8\n",
       "Septiembre     9\n",
       "Octubre       10\n",
       "Noviembre     11\n",
       "Diciembre     12\n",
       "dtype: int64"
      ]
     },
     "execution_count": 9,
     "metadata": {},
     "output_type": "execute_result"
    }
   ],
   "source": [
    "serie"
   ]
  },
  {
   "cell_type": "code",
   "execution_count": 10,
   "metadata": {},
   "outputs": [
    {
     "data": {
      "text/plain": [
       "Abril         4\n",
       "Septiembre    9\n",
       "dtype: int64"
      ]
     },
     "execution_count": 10,
     "metadata": {},
     "output_type": "execute_result"
    }
   ],
   "source": [
    "# Muestra los valores que estan en la posicion 3 y 8 de mi serie.\n",
    "serie.iloc[3::5]\n"
   ]
  },
  {
   "cell_type": "code",
   "execution_count": 18,
   "metadata": {},
   "outputs": [
    {
     "data": {
      "text/plain": [
       "1"
      ]
     },
     "execution_count": 18,
     "metadata": {},
     "output_type": "execute_result"
    }
   ],
   "source": [
    "# Muestra los valores que estan etiquetados en enero y agosto.\n",
    "serie[\"Enero\"]\n"
   ]
  },
  {
   "cell_type": "code",
   "execution_count": 17,
   "metadata": {},
   "outputs": [
    {
     "data": {
      "text/plain": [
       "8"
      ]
     },
     "execution_count": 17,
     "metadata": {},
     "output_type": "execute_result"
    }
   ],
   "source": [
    "serie[\"Agosto\"]"
   ]
  },
  {
   "cell_type": "code",
   "execution_count": 24,
   "metadata": {},
   "outputs": [
    {
     "name": "stdout",
     "output_type": "stream",
     "text": [
      "(12,) int64 12\n"
     ]
    }
   ],
   "source": [
    "# Muestra sus valores, indices, forma, tamaño y el tipo de elementos de la serie.\n",
    "\n",
    "print(serie.shape,serie.dtypes,serie.size)"
   ]
  }
 ],
 "metadata": {
  "kernelspec": {
   "display_name": "Python 3",
   "language": "python",
   "name": "python3"
  },
  "language_info": {
   "codemirror_mode": {
    "name": "ipython",
    "version": 3
   },
   "file_extension": ".py",
   "mimetype": "text/x-python",
   "name": "python",
   "nbconvert_exporter": "python",
   "pygments_lexer": "ipython3",
   "version": "3.11.9"
  }
 },
 "nbformat": 4,
 "nbformat_minor": 2
}
