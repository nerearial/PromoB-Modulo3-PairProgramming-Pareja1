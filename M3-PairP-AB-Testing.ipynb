{
 "cells": [
  {
   "cell_type": "code",
   "execution_count": 1,
   "metadata": {},
   "outputs": [],
   "source": [
    "# importamos las librerías que necesitamos\n",
    "\n",
    "# Tratamiento de datos\n",
    "# -----------------------------------------------------------------------\n",
    "import pandas as pd\n",
    "import numpy as np\n",
    "\n",
    "# Visualización\n",
    "# ------------------------------------------------------------------------------\n",
    "import matplotlib.pyplot as plt\n",
    "import seaborn as sns\n",
    "\n",
    "# Evaluar linealidad de las relaciones entre las variables\n",
    "# y la distribución de las variables\n",
    "# ------------------------------------------------------------------------------\n",
    "import scipy.stats as stats\n",
    "from scipy.stats import chi2_contingency, ttest_ind\n",
    "\n",
    "# Configuración\n",
    "# -----------------------------------------------------------------------\n",
    "pd.set_option('display.max_columns', None) # para poder visualizar todas las columnas de los DataFrames\n",
    "\n",
    "# Gestión de los warnings\n",
    "# -----------------------------------------------------------------------\n",
    "import warnings\n",
    "warnings.filterwarnings(\"ignore\")"
   ]
  },
  {
   "cell_type": "code",
   "execution_count": 5,
   "metadata": {},
   "outputs": [
    {
     "data": {
      "text/html": [
       "<div>\n",
       "<style scoped>\n",
       "    .dataframe tbody tr th:only-of-type {\n",
       "        vertical-align: middle;\n",
       "    }\n",
       "\n",
       "    .dataframe tbody tr th {\n",
       "        vertical-align: top;\n",
       "    }\n",
       "\n",
       "    .dataframe thead th {\n",
       "        text-align: right;\n",
       "    }\n",
       "</style>\n",
       "<table border=\"1\" class=\"dataframe\">\n",
       "  <thead>\n",
       "    <tr style=\"text-align: right;\">\n",
       "      <th></th>\n",
       "      <th>user id</th>\n",
       "      <th>test group</th>\n",
       "      <th>converted</th>\n",
       "      <th>total ads</th>\n",
       "      <th>most ads day</th>\n",
       "      <th>most ads hour</th>\n",
       "    </tr>\n",
       "  </thead>\n",
       "  <tbody>\n",
       "    <tr>\n",
       "      <th>0</th>\n",
       "      <td>1069124</td>\n",
       "      <td>ad</td>\n",
       "      <td>False</td>\n",
       "      <td>130</td>\n",
       "      <td>Monday</td>\n",
       "      <td>20</td>\n",
       "    </tr>\n",
       "    <tr>\n",
       "      <th>1</th>\n",
       "      <td>1119715</td>\n",
       "      <td>ad</td>\n",
       "      <td>False</td>\n",
       "      <td>93</td>\n",
       "      <td>Tuesday</td>\n",
       "      <td>22</td>\n",
       "    </tr>\n",
       "    <tr>\n",
       "      <th>2</th>\n",
       "      <td>1144181</td>\n",
       "      <td>ad</td>\n",
       "      <td>False</td>\n",
       "      <td>21</td>\n",
       "      <td>Tuesday</td>\n",
       "      <td>18</td>\n",
       "    </tr>\n",
       "    <tr>\n",
       "      <th>3</th>\n",
       "      <td>1435133</td>\n",
       "      <td>ad</td>\n",
       "      <td>False</td>\n",
       "      <td>355</td>\n",
       "      <td>Tuesday</td>\n",
       "      <td>10</td>\n",
       "    </tr>\n",
       "    <tr>\n",
       "      <th>4</th>\n",
       "      <td>1015700</td>\n",
       "      <td>ad</td>\n",
       "      <td>False</td>\n",
       "      <td>276</td>\n",
       "      <td>Friday</td>\n",
       "      <td>14</td>\n",
       "    </tr>\n",
       "  </tbody>\n",
       "</table>\n",
       "</div>"
      ],
      "text/plain": [
       "   user id test group  converted  total ads most ads day  most ads hour\n",
       "0  1069124         ad      False        130       Monday             20\n",
       "1  1119715         ad      False         93      Tuesday             22\n",
       "2  1144181         ad      False         21      Tuesday             18\n",
       "3  1435133         ad      False        355      Tuesday             10\n",
       "4  1015700         ad      False        276       Friday             14"
      ]
     },
     "execution_count": 5,
     "metadata": {},
     "output_type": "execute_result"
    }
   ],
   "source": [
    "df = pd.read_csv(\"Files/marketing_AB.csv\", index_col=0)\n",
    "df.head()"
   ]
  },
  {
   "cell_type": "markdown",
   "metadata": {},
   "source": [
    "Supongamos que estamos realizando un experimento para determinar si un nuevo diseño de anuncio (test group \"ad\") tiene un impacto significativo en la tasa de conversión en comparación con el diseño de anuncio anterior (test group \"psa\").\n",
    "- Objetivo del ejercicio: Comparar las tasas de conversión entre los grupos de prueba \"ad\" y \"psa\" para determinar si el nuevo diseño de anuncio es más efectivo en la conversión de usuarios."
   ]
  },
  {
   "cell_type": "markdown",
   "metadata": {},
   "source": [
    "Preparación de los datos: Asegúrate de que los datos estén limpios y listos para el análisis. Esto incluye la eliminación de datos faltantes y la verificación de la coherencia de los datos."
   ]
  },
  {
   "cell_type": "code",
   "execution_count": 8,
   "metadata": {},
   "outputs": [
    {
     "data": {
      "text/plain": [
       "(588101, 6)"
      ]
     },
     "execution_count": 8,
     "metadata": {},
     "output_type": "execute_result"
    }
   ],
   "source": [
    "df.shape"
   ]
  },
  {
   "cell_type": "code",
   "execution_count": 6,
   "metadata": {},
   "outputs": [
    {
     "name": "stdout",
     "output_type": "stream",
     "text": [
      "<class 'pandas.core.frame.DataFrame'>\n",
      "Index: 588101 entries, 0 to 588100\n",
      "Data columns (total 6 columns):\n",
      " #   Column         Non-Null Count   Dtype \n",
      "---  ------         --------------   ----- \n",
      " 0   user id        588101 non-null  int64 \n",
      " 1   test group     588101 non-null  object\n",
      " 2   converted      588101 non-null  bool  \n",
      " 3   total ads      588101 non-null  int64 \n",
      " 4   most ads day   588101 non-null  object\n",
      " 5   most ads hour  588101 non-null  int64 \n",
      "dtypes: bool(1), int64(3), object(2)\n",
      "memory usage: 27.5+ MB\n"
     ]
    }
   ],
   "source": [
    "df.info()\n",
    "# el conjunto de datos no tiene nulos"
   ]
  },
  {
   "cell_type": "code",
   "execution_count": 10,
   "metadata": {},
   "outputs": [
    {
     "data": {
      "text/plain": [
       "array(['ad', 'psa'], dtype=object)"
      ]
     },
     "execution_count": 10,
     "metadata": {},
     "output_type": "execute_result"
    }
   ],
   "source": [
    "df['test group'].unique()\n",
    "# los valores son correctos y completos"
   ]
  },
  {
   "cell_type": "code",
   "execution_count": 11,
   "metadata": {},
   "outputs": [
    {
     "data": {
      "text/plain": [
       "array([False,  True])"
      ]
     },
     "execution_count": 11,
     "metadata": {},
     "output_type": "execute_result"
    }
   ],
   "source": [
    "df['converted'].unique()\n",
    "# es un valor booleano, los datos están completos y correctos"
   ]
  },
  {
   "cell_type": "code",
   "execution_count": 12,
   "metadata": {},
   "outputs": [
    {
     "data": {
      "text/plain": [
       "array(['Monday', 'Tuesday', 'Friday', 'Saturday', 'Wednesday', 'Sunday',\n",
       "       'Thursday'], dtype=object)"
      ]
     },
     "execution_count": 12,
     "metadata": {},
     "output_type": "execute_result"
    }
   ],
   "source": [
    "df['most ads day'].unique()\n",
    "# los datos están completos y correctos"
   ]
  },
  {
   "cell_type": "code",
   "execution_count": 21,
   "metadata": {},
   "outputs": [
    {
     "data": {
      "text/plain": [
       "pandas.core.frame.DataFrame"
      ]
     },
     "execution_count": 21,
     "metadata": {},
     "output_type": "execute_result"
    }
   ],
   "source": [
    "type(df.describe())"
   ]
  },
  {
   "cell_type": "code",
   "execution_count": 25,
   "metadata": {},
   "outputs": [
    {
     "data": {
      "text/html": [
       "<div>\n",
       "<style scoped>\n",
       "    .dataframe tbody tr th:only-of-type {\n",
       "        vertical-align: middle;\n",
       "    }\n",
       "\n",
       "    .dataframe tbody tr th {\n",
       "        vertical-align: top;\n",
       "    }\n",
       "\n",
       "    .dataframe thead th {\n",
       "        text-align: right;\n",
       "    }\n",
       "</style>\n",
       "<table border=\"1\" class=\"dataframe\">\n",
       "  <thead>\n",
       "    <tr style=\"text-align: right;\">\n",
       "      <th></th>\n",
       "      <th>total ads</th>\n",
       "      <th>most ads hour</th>\n",
       "    </tr>\n",
       "  </thead>\n",
       "  <tbody>\n",
       "    <tr>\n",
       "      <th>count</th>\n",
       "      <td>588101.000000</td>\n",
       "      <td>588101.000000</td>\n",
       "    </tr>\n",
       "    <tr>\n",
       "      <th>mean</th>\n",
       "      <td>24.820876</td>\n",
       "      <td>14.469061</td>\n",
       "    </tr>\n",
       "    <tr>\n",
       "      <th>std</th>\n",
       "      <td>43.715181</td>\n",
       "      <td>4.834634</td>\n",
       "    </tr>\n",
       "    <tr>\n",
       "      <th>min</th>\n",
       "      <td>1.000000</td>\n",
       "      <td>0.000000</td>\n",
       "    </tr>\n",
       "    <tr>\n",
       "      <th>25%</th>\n",
       "      <td>4.000000</td>\n",
       "      <td>11.000000</td>\n",
       "    </tr>\n",
       "    <tr>\n",
       "      <th>50%</th>\n",
       "      <td>13.000000</td>\n",
       "      <td>14.000000</td>\n",
       "    </tr>\n",
       "    <tr>\n",
       "      <th>75%</th>\n",
       "      <td>27.000000</td>\n",
       "      <td>18.000000</td>\n",
       "    </tr>\n",
       "    <tr>\n",
       "      <th>max</th>\n",
       "      <td>2065.000000</td>\n",
       "      <td>23.000000</td>\n",
       "    </tr>\n",
       "  </tbody>\n",
       "</table>\n",
       "</div>"
      ],
      "text/plain": [
       "           total ads  most ads hour\n",
       "count  588101.000000  588101.000000\n",
       "mean       24.820876      14.469061\n",
       "std        43.715181       4.834634\n",
       "min         1.000000       0.000000\n",
       "25%         4.000000      11.000000\n",
       "50%        13.000000      14.000000\n",
       "75%        27.000000      18.000000\n",
       "max      2065.000000      23.000000"
      ]
     },
     "execution_count": 25,
     "metadata": {},
     "output_type": "execute_result"
    }
   ],
   "source": [
    "df.describe().loc[:, ['total ads','most ads hour']]"
   ]
  },
  {
   "cell_type": "code",
   "execution_count": 27,
   "metadata": {},
   "outputs": [
    {
     "data": {
      "text/html": [
       "<div>\n",
       "<style scoped>\n",
       "    .dataframe tbody tr th:only-of-type {\n",
       "        vertical-align: middle;\n",
       "    }\n",
       "\n",
       "    .dataframe tbody tr th {\n",
       "        vertical-align: top;\n",
       "    }\n",
       "\n",
       "    .dataframe thead th {\n",
       "        text-align: right;\n",
       "    }\n",
       "</style>\n",
       "<table border=\"1\" class=\"dataframe\">\n",
       "  <thead>\n",
       "    <tr style=\"text-align: right;\">\n",
       "      <th></th>\n",
       "      <th>user id</th>\n",
       "      <th>test group</th>\n",
       "      <th>converted</th>\n",
       "      <th>total ads</th>\n",
       "      <th>most ads day</th>\n",
       "      <th>most ads hour</th>\n",
       "    </tr>\n",
       "  </thead>\n",
       "  <tbody>\n",
       "    <tr>\n",
       "      <th>391011</th>\n",
       "      <td>1099841</td>\n",
       "      <td>ad</td>\n",
       "      <td>False</td>\n",
       "      <td>9</td>\n",
       "      <td>Saturday</td>\n",
       "      <td>12</td>\n",
       "    </tr>\n",
       "    <tr>\n",
       "      <th>161786</th>\n",
       "      <td>1418599</td>\n",
       "      <td>ad</td>\n",
       "      <td>True</td>\n",
       "      <td>162</td>\n",
       "      <td>Thursday</td>\n",
       "      <td>15</td>\n",
       "    </tr>\n",
       "    <tr>\n",
       "      <th>452780</th>\n",
       "      <td>1104952</td>\n",
       "      <td>ad</td>\n",
       "      <td>False</td>\n",
       "      <td>1</td>\n",
       "      <td>Monday</td>\n",
       "      <td>21</td>\n",
       "    </tr>\n",
       "    <tr>\n",
       "      <th>147851</th>\n",
       "      <td>1586921</td>\n",
       "      <td>ad</td>\n",
       "      <td>False</td>\n",
       "      <td>41</td>\n",
       "      <td>Tuesday</td>\n",
       "      <td>21</td>\n",
       "    </tr>\n",
       "    <tr>\n",
       "      <th>564150</th>\n",
       "      <td>1221998</td>\n",
       "      <td>ad</td>\n",
       "      <td>False</td>\n",
       "      <td>2</td>\n",
       "      <td>Thursday</td>\n",
       "      <td>8</td>\n",
       "    </tr>\n",
       "  </tbody>\n",
       "</table>\n",
       "</div>"
      ],
      "text/plain": [
       "        user id test group  converted  total ads most ads day  most ads hour\n",
       "391011  1099841         ad      False          9     Saturday             12\n",
       "161786  1418599         ad       True        162     Thursday             15\n",
       "452780  1104952         ad      False          1       Monday             21\n",
       "147851  1586921         ad      False         41      Tuesday             21\n",
       "564150  1221998         ad      False          2     Thursday              8"
      ]
     },
     "execution_count": 27,
     "metadata": {},
     "output_type": "execute_result"
    }
   ],
   "source": [
    "df.sample(5)"
   ]
  },
  {
   "cell_type": "markdown",
   "metadata": {},
   "source": [
    "Definición de las hipótesis: Plantea una hipótesis nula (H0) y una hipótesis alternativa (H1) para el experimento (en este caso os las damos definidas):\n",
    "\n",
    "- Hipótesis nula (H0): No hay diferencia significativa en la tasa de conversión entre los grupos de prueba \"ad\" y \"psa\".\n",
    "\n",
    "- Hipótesis alternativa (H1): Existe una diferencia significativa en la tasa de conversión entre los grupos de prueba \"ad\" y \"psa\"."
   ]
  },
  {
   "cell_type": "code",
   "execution_count": null,
   "metadata": {},
   "outputs": [],
   "source": [
    "# Procedemos a hacer las pruebas\n",
    "\n",
    "# Primero analizamos visualmente:\n",
    "\n",
    "sns.barplot(x=\"group_ad\", y=\"total ads\", data=df)\n",
    "\n",
    "\n",
    "sns.barplot(x=\"group_psa\", y=\"total ads\", data=df)"
   ]
  },
  {
   "cell_type": "code",
   "execution_count": null,
   "metadata": {},
   "outputs": [],
   "source": [
    "df['test group'] == 'ad' & df['converted'] == True"
   ]
  },
  {
   "cell_type": "code",
   "execution_count": 50,
   "metadata": {},
   "outputs": [],
   "source": [
    "filtro_ad = df[(df['test group'] == 'ad') & (df['converted'] == True)]"
   ]
  },
  {
   "cell_type": "code",
   "execution_count": 52,
   "metadata": {},
   "outputs": [],
   "source": [
    "filtro_psa = df[(df['test group'] == 'psa') & (df['converted'] == True)]"
   ]
  },
  {
   "cell_type": "code",
   "execution_count": 51,
   "metadata": {},
   "outputs": [
    {
     "data": {
      "text/html": [
       "<div>\n",
       "<style scoped>\n",
       "    .dataframe tbody tr th:only-of-type {\n",
       "        vertical-align: middle;\n",
       "    }\n",
       "\n",
       "    .dataframe tbody tr th {\n",
       "        vertical-align: top;\n",
       "    }\n",
       "\n",
       "    .dataframe thead th {\n",
       "        text-align: right;\n",
       "    }\n",
       "</style>\n",
       "<table border=\"1\" class=\"dataframe\">\n",
       "  <thead>\n",
       "    <tr style=\"text-align: right;\">\n",
       "      <th></th>\n",
       "      <th>user id</th>\n",
       "      <th>test group</th>\n",
       "      <th>converted</th>\n",
       "      <th>total ads</th>\n",
       "      <th>most ads day</th>\n",
       "      <th>most ads hour</th>\n",
       "      <th>ad</th>\n",
       "    </tr>\n",
       "  </thead>\n",
       "  <tbody>\n",
       "    <tr>\n",
       "      <th>15</th>\n",
       "      <td>1461774</td>\n",
       "      <td>ad</td>\n",
       "      <td>True</td>\n",
       "      <td>9</td>\n",
       "      <td>Wednesday</td>\n",
       "      <td>18</td>\n",
       "      <td>65344.555556</td>\n",
       "    </tr>\n",
       "    <tr>\n",
       "      <th>44</th>\n",
       "      <td>1355531</td>\n",
       "      <td>ad</td>\n",
       "      <td>True</td>\n",
       "      <td>265</td>\n",
       "      <td>Tuesday</td>\n",
       "      <td>12</td>\n",
       "      <td>2219.249057</td>\n",
       "    </tr>\n",
       "    <tr>\n",
       "      <th>107</th>\n",
       "      <td>1389878</td>\n",
       "      <td>ad</td>\n",
       "      <td>True</td>\n",
       "      <td>1328</td>\n",
       "      <td>Saturday</td>\n",
       "      <td>19</td>\n",
       "      <td>442.847139</td>\n",
       "    </tr>\n",
       "    <tr>\n",
       "      <th>121</th>\n",
       "      <td>1475989</td>\n",
       "      <td>ad</td>\n",
       "      <td>True</td>\n",
       "      <td>323</td>\n",
       "      <td>Saturday</td>\n",
       "      <td>20</td>\n",
       "      <td>1820.746130</td>\n",
       "    </tr>\n",
       "    <tr>\n",
       "      <th>135</th>\n",
       "      <td>1241733</td>\n",
       "      <td>ad</td>\n",
       "      <td>True</td>\n",
       "      <td>246</td>\n",
       "      <td>Friday</td>\n",
       "      <td>20</td>\n",
       "      <td>2390.654472</td>\n",
       "    </tr>\n",
       "    <tr>\n",
       "      <th>...</th>\n",
       "      <td>...</td>\n",
       "      <td>...</td>\n",
       "      <td>...</td>\n",
       "      <td>...</td>\n",
       "      <td>...</td>\n",
       "      <td>...</td>\n",
       "      <td>...</td>\n",
       "    </tr>\n",
       "    <tr>\n",
       "      <th>586037</th>\n",
       "      <td>1473422</td>\n",
       "      <td>ad</td>\n",
       "      <td>True</td>\n",
       "      <td>5</td>\n",
       "      <td>Tuesday</td>\n",
       "      <td>13</td>\n",
       "      <td>117620.200000</td>\n",
       "    </tr>\n",
       "    <tr>\n",
       "      <th>586073</th>\n",
       "      <td>1259895</td>\n",
       "      <td>ad</td>\n",
       "      <td>True</td>\n",
       "      <td>24</td>\n",
       "      <td>Tuesday</td>\n",
       "      <td>14</td>\n",
       "      <td>24504.208333</td>\n",
       "    </tr>\n",
       "    <tr>\n",
       "      <th>586343</th>\n",
       "      <td>1371997</td>\n",
       "      <td>ad</td>\n",
       "      <td>True</td>\n",
       "      <td>14</td>\n",
       "      <td>Tuesday</td>\n",
       "      <td>17</td>\n",
       "      <td>42007.214286</td>\n",
       "    </tr>\n",
       "    <tr>\n",
       "      <th>587069</th>\n",
       "      <td>1586485</td>\n",
       "      <td>ad</td>\n",
       "      <td>True</td>\n",
       "      <td>4</td>\n",
       "      <td>Tuesday</td>\n",
       "      <td>16</td>\n",
       "      <td>147025.250000</td>\n",
       "    </tr>\n",
       "    <tr>\n",
       "      <th>587665</th>\n",
       "      <td>1023416</td>\n",
       "      <td>ad</td>\n",
       "      <td>True</td>\n",
       "      <td>3</td>\n",
       "      <td>Tuesday</td>\n",
       "      <td>22</td>\n",
       "      <td>196033.666667</td>\n",
       "    </tr>\n",
       "  </tbody>\n",
       "</table>\n",
       "<p>14423 rows × 7 columns</p>\n",
       "</div>"
      ],
      "text/plain": [
       "        user id test group  converted  total ads most ads day  most ads hour  \\\n",
       "15      1461774         ad       True          9    Wednesday             18   \n",
       "44      1355531         ad       True        265      Tuesday             12   \n",
       "107     1389878         ad       True       1328     Saturday             19   \n",
       "121     1475989         ad       True        323     Saturday             20   \n",
       "135     1241733         ad       True        246       Friday             20   \n",
       "...         ...        ...        ...        ...          ...            ...   \n",
       "586037  1473422         ad       True          5      Tuesday             13   \n",
       "586073  1259895         ad       True         24      Tuesday             14   \n",
       "586343  1371997         ad       True         14      Tuesday             17   \n",
       "587069  1586485         ad       True          4      Tuesday             16   \n",
       "587665  1023416         ad       True          3      Tuesday             22   \n",
       "\n",
       "                   ad  \n",
       "15       65344.555556  \n",
       "44        2219.249057  \n",
       "107        442.847139  \n",
       "121       1820.746130  \n",
       "135       2390.654472  \n",
       "...               ...  \n",
       "586037  117620.200000  \n",
       "586073   24504.208333  \n",
       "586343   42007.214286  \n",
       "587069  147025.250000  \n",
       "587665  196033.666667  \n",
       "\n",
       "[14423 rows x 7 columns]"
      ]
     },
     "execution_count": 51,
     "metadata": {},
     "output_type": "execute_result"
    }
   ],
   "source": [
    "filtro_ad"
   ]
  },
  {
   "cell_type": "code",
   "execution_count": 53,
   "metadata": {},
   "outputs": [
    {
     "data": {
      "text/html": [
       "<div>\n",
       "<style scoped>\n",
       "    .dataframe tbody tr th:only-of-type {\n",
       "        vertical-align: middle;\n",
       "    }\n",
       "\n",
       "    .dataframe tbody tr th {\n",
       "        vertical-align: top;\n",
       "    }\n",
       "\n",
       "    .dataframe thead th {\n",
       "        text-align: right;\n",
       "    }\n",
       "</style>\n",
       "<table border=\"1\" class=\"dataframe\">\n",
       "  <thead>\n",
       "    <tr style=\"text-align: right;\">\n",
       "      <th></th>\n",
       "      <th>user id</th>\n",
       "      <th>test group</th>\n",
       "      <th>converted</th>\n",
       "      <th>total ads</th>\n",
       "      <th>most ads day</th>\n",
       "      <th>most ads hour</th>\n",
       "      <th>ad</th>\n",
       "    </tr>\n",
       "  </thead>\n",
       "  <tbody>\n",
       "    <tr>\n",
       "      <th>957</th>\n",
       "      <td>915026</td>\n",
       "      <td>psa</td>\n",
       "      <td>True</td>\n",
       "      <td>88</td>\n",
       "      <td>Sunday</td>\n",
       "      <td>19</td>\n",
       "      <td>6682.965909</td>\n",
       "    </tr>\n",
       "    <tr>\n",
       "      <th>2531</th>\n",
       "      <td>904434</td>\n",
       "      <td>psa</td>\n",
       "      <td>True</td>\n",
       "      <td>7</td>\n",
       "      <td>Tuesday</td>\n",
       "      <td>20</td>\n",
       "      <td>84014.428571</td>\n",
       "    </tr>\n",
       "    <tr>\n",
       "      <th>2744</th>\n",
       "      <td>920737</td>\n",
       "      <td>psa</td>\n",
       "      <td>True</td>\n",
       "      <td>77</td>\n",
       "      <td>Monday</td>\n",
       "      <td>13</td>\n",
       "      <td>7637.675325</td>\n",
       "    </tr>\n",
       "    <tr>\n",
       "      <th>2751</th>\n",
       "      <td>904131</td>\n",
       "      <td>psa</td>\n",
       "      <td>True</td>\n",
       "      <td>111</td>\n",
       "      <td>Monday</td>\n",
       "      <td>12</td>\n",
       "      <td>5298.207207</td>\n",
       "    </tr>\n",
       "    <tr>\n",
       "      <th>2979</th>\n",
       "      <td>901749</td>\n",
       "      <td>psa</td>\n",
       "      <td>True</td>\n",
       "      <td>364</td>\n",
       "      <td>Friday</td>\n",
       "      <td>21</td>\n",
       "      <td>1615.662088</td>\n",
       "    </tr>\n",
       "    <tr>\n",
       "      <th>...</th>\n",
       "      <td>...</td>\n",
       "      <td>...</td>\n",
       "      <td>...</td>\n",
       "      <td>...</td>\n",
       "      <td>...</td>\n",
       "      <td>...</td>\n",
       "      <td>...</td>\n",
       "    </tr>\n",
       "    <tr>\n",
       "      <th>569821</th>\n",
       "      <td>902040</td>\n",
       "      <td>psa</td>\n",
       "      <td>True</td>\n",
       "      <td>13</td>\n",
       "      <td>Friday</td>\n",
       "      <td>19</td>\n",
       "      <td>45238.538462</td>\n",
       "    </tr>\n",
       "    <tr>\n",
       "      <th>577022</th>\n",
       "      <td>917817</td>\n",
       "      <td>psa</td>\n",
       "      <td>True</td>\n",
       "      <td>7</td>\n",
       "      <td>Sunday</td>\n",
       "      <td>13</td>\n",
       "      <td>84014.428571</td>\n",
       "    </tr>\n",
       "    <tr>\n",
       "      <th>578515</th>\n",
       "      <td>913311</td>\n",
       "      <td>psa</td>\n",
       "      <td>True</td>\n",
       "      <td>2</td>\n",
       "      <td>Sunday</td>\n",
       "      <td>19</td>\n",
       "      <td>294050.500000</td>\n",
       "    </tr>\n",
       "    <tr>\n",
       "      <th>586818</th>\n",
       "      <td>913022</td>\n",
       "      <td>psa</td>\n",
       "      <td>True</td>\n",
       "      <td>11</td>\n",
       "      <td>Tuesday</td>\n",
       "      <td>15</td>\n",
       "      <td>53463.727273</td>\n",
       "    </tr>\n",
       "    <tr>\n",
       "      <th>586990</th>\n",
       "      <td>922557</td>\n",
       "      <td>psa</td>\n",
       "      <td>True</td>\n",
       "      <td>8</td>\n",
       "      <td>Tuesday</td>\n",
       "      <td>16</td>\n",
       "      <td>73512.625000</td>\n",
       "    </tr>\n",
       "  </tbody>\n",
       "</table>\n",
       "<p>420 rows × 7 columns</p>\n",
       "</div>"
      ],
      "text/plain": [
       "        user id test group  converted  total ads most ads day  most ads hour  \\\n",
       "957      915026        psa       True         88       Sunday             19   \n",
       "2531     904434        psa       True          7      Tuesday             20   \n",
       "2744     920737        psa       True         77       Monday             13   \n",
       "2751     904131        psa       True        111       Monday             12   \n",
       "2979     901749        psa       True        364       Friday             21   \n",
       "...         ...        ...        ...        ...          ...            ...   \n",
       "569821   902040        psa       True         13       Friday             19   \n",
       "577022   917817        psa       True          7       Sunday             13   \n",
       "578515   913311        psa       True          2       Sunday             19   \n",
       "586818   913022        psa       True         11      Tuesday             15   \n",
       "586990   922557        psa       True          8      Tuesday             16   \n",
       "\n",
       "                   ad  \n",
       "957       6682.965909  \n",
       "2531     84014.428571  \n",
       "2744      7637.675325  \n",
       "2751      5298.207207  \n",
       "2979      1615.662088  \n",
       "...               ...  \n",
       "569821   45238.538462  \n",
       "577022   84014.428571  \n",
       "578515  294050.500000  \n",
       "586818   53463.727273  \n",
       "586990   73512.625000  \n",
       "\n",
       "[420 rows x 7 columns]"
      ]
     },
     "execution_count": 53,
     "metadata": {},
     "output_type": "execute_result"
    }
   ],
   "source": [
    "filtro_psa"
   ]
  },
  {
   "cell_type": "code",
   "execution_count": 64,
   "metadata": {},
   "outputs": [],
   "source": [
    "filtro1 = df[df['converted'] == True]"
   ]
  },
  {
   "cell_type": "code",
   "execution_count": 68,
   "metadata": {},
   "outputs": [
    {
     "data": {
      "text/plain": [
       "(14843, 7)"
      ]
     },
     "execution_count": 68,
     "metadata": {},
     "output_type": "execute_result"
    }
   ],
   "source": [
    "filtro1.shape"
   ]
  },
  {
   "cell_type": "code",
   "execution_count": 63,
   "metadata": {},
   "outputs": [
    {
     "data": {
      "text/plain": [
       "588101"
      ]
     },
     "execution_count": 63,
     "metadata": {},
     "output_type": "execute_result"
    }
   ],
   "source": [
    "(df['converted'] == True).count()"
   ]
  },
  {
   "cell_type": "code",
   "execution_count": 54,
   "metadata": {},
   "outputs": [],
   "source": [
    "# Tasas de conversión por grupos\n",
    "\n",
    "conversion_rate_ad = filtro_ad['user id'].count() / df.shape[0]\n",
    "conversion_rate_psa = filtro_psa['user id'].count() / df.shape[0]\n"
   ]
  },
  {
   "cell_type": "code",
   "execution_count": 56,
   "metadata": {},
   "outputs": [
    {
     "data": {
      "text/plain": [
       "0.02452469898877914"
      ]
     },
     "execution_count": 56,
     "metadata": {},
     "output_type": "execute_result"
    }
   ],
   "source": [
    "conversion_rate_ad"
   ]
  },
  {
   "cell_type": "code",
   "execution_count": 55,
   "metadata": {},
   "outputs": [
    {
     "data": {
      "text/plain": [
       "0.0007141630434228134"
      ]
     },
     "execution_count": 55,
     "metadata": {},
     "output_type": "execute_result"
    }
   ],
   "source": [
    "conversion_rate_psa"
   ]
  },
  {
   "cell_type": "markdown",
   "metadata": {},
   "source": [
    "Prueba de hipótesis: Utiliza una prueba estadística, como la prueba t de Student o la prueba chi-cuadrado, para comparar las tasas de conversión entre los grupos \"ad\" y \"psa\"."
   ]
  },
  {
   "cell_type": "code",
   "execution_count": 72,
   "metadata": {},
   "outputs": [
    {
     "name": "stdout",
     "output_type": "stream",
     "text": [
      "Tasa de conversión en el grupo 'ad': 0.02\n",
      "Tasa de conversión en el grupo 'psa': 0.00\n",
      "Valor p de la prueba de hipótesis: 0.000000000000\n"
     ]
    }
   ],
   "source": [
    "group_ad = df[df['test group'] == 'ad']\n",
    "group_psa = df[df['test group'] == 'psa']\n",
    "\n",
    "# Realizar la prueba de hipótesis (prueba t de Student)\n",
    "# Buscamos si hay diferencia significativa entre los dos ratios de conversión de estos dos grupos.\n",
    "t_stat, p_value = stats.ttest_ind(group_ad['converted'], group_psa['converted'])\n",
    "\n",
    "# Definir un nivel de significancia (alfa)\n",
    "alfa = 0.05\n",
    "\n",
    "# Imprimir los resultados\n",
    "print(f\"Tasa de conversión en el grupo 'ad': {conversion_rate_ad:.2f}\")\n",
    "print(f\"Tasa de conversión en el grupo 'psa': {conversion_rate_psa:.2f}\")\n",
    "print(f\"Valor p de la prueba de hipótesis: {p_value:.12f}\")\n",
    "\n",
    "# Hay una diferencia significativa entre las tasas de conversión entre los grupos, concluyendo que el grupo AD, que es nuestro grupo de control, \n",
    "# ha tenido un ratio de conversión mucho más grande que el del grupo de prueba, es decir, \n",
    "# el diseño del nuevo anuncio, NO es más efectivo en la conversión de usuarios con respecto al diseño anterior.\n",
    "# Nuestra recomendación es que el diseño de la web quede como estaba anteriormente. \n",
    "# Dado que se demuestra que el diseño anterior es más efectivo en la conversión de usuarios. "
   ]
  },
  {
   "cell_type": "markdown",
   "metadata": {},
   "source": [
    "Análisis de resultados:\n",
    "\n",
    "- Si el valor p es menor que un umbral predefinido (por ejemplo, 0.05), rechazamos la hipótesis nula y concluimos que hay una diferencia significativa en las tasas de conversión entre los grupos.\n",
    "\n",
    "- Si el valor p es mayor que el umbral, no podemos rechazar la hipótesis nula y concluimos que no hay evidencia suficiente para afirmar que hay una diferencia significativa."
   ]
  },
  {
   "cell_type": "markdown",
   "metadata": {},
   "source": [
    "Conclusiones y recomendaciones: Basándote en los resultados de la prueba de hipótesis, llega a una conclusión sobre si el nuevo diseño de anuncio es más efectivo en la conversión de usuarios que el diseño anterior. Si es así, puedes hacer recomendaciones basadas en estos hallazgos."
   ]
  }
 ],
 "metadata": {
  "kernelspec": {
   "display_name": "base",
   "language": "python",
   "name": "python3"
  },
  "language_info": {
   "codemirror_mode": {
    "name": "ipython",
    "version": 3
   },
   "file_extension": ".py",
   "mimetype": "text/x-python",
   "name": "python",
   "nbconvert_exporter": "python",
   "pygments_lexer": "ipython3",
   "version": "3.11.7"
  }
 },
 "nbformat": 4,
 "nbformat_minor": 2
}
