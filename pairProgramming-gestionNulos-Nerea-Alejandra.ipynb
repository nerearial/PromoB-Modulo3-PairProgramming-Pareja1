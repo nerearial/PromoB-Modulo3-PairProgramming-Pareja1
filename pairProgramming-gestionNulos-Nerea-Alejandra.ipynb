{
 "cells": [
  {
   "cell_type": "markdown",
   "metadata": {},
   "source": [
    "## Ejercicios\n",
    "\n",
    "\n",
    "- Cargad el csv.\n",
    "\n",
    "- ¿Qué columnas tienen nulos?\n",
    "\n",
    "- Explorad los nulos que hay en el DataFrame.\n",
    "\n",
    "- Con lo aprendido en la lección de hoy gestiona los nulos de la forma que consideres más correcta.\n",
    "\n",
    "- Guarda el csv con las columnas sin nulos."
   ]
  }
 ],
 "metadata": {
  "language_info": {
   "name": "python"
  }
 },
 "nbformat": 4,
 "nbformat_minor": 2
}
